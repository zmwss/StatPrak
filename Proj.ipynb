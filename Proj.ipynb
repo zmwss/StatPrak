{
 "cells": [
  {
   "cell_type": "markdown",
   "id": "1f87b296-04b8-4b7c-968a-c8b06669b32b",
   "metadata": {},
   "source": [
    "# Проект: Анализ привычек студентов и их академической успеваемости\n",
    "\n",
    "## 1. Описание проекта\n",
    "**Цель:** Исследовать влияние привычек и образа жизни студентов на их академическую успеваемость.  \n",
    "**Датасет:** [Student Habits and Academic Performance Dataset](https://www.kaggle.com/datasets/aryan208/student-habits-and-academic-performance-dataset)  \n",
    "**Задачи:**\n",
    "- Провести разведочный анализ данных (EDA).\n",
    "- Выявить ключевые факторы, влияющие на успеваемость.\n",
    "- Построить модели для прогнозирования успеваемости.\n",
    "- Сравнить построенные модели и выбрать лучшую\n",
    "\n",
    "## 2. Описание данных\n",
    "Датасет содержит информацию о студентах:\n",
    "- Демографические данные (возраст, пол).\n",
    "- Привычки (сон, питание, физическая активность).\n",
    "- Учебные привычки (время учебы, использование технологий).\n",
    "- Психологические факторы (стресс, мотивация).\n",
    "- Академическая успеваемость (оценки, GPA).\n",
    "## 3. Модели\n",
    "- Линейная регрессия\n",
    "- Random Forest\n",
    "- kNN\n",
    "## 4. Оценка моделей\n",
    "- ROC-AUC\n",
    "- Confusion matrix\n",
    "- Сравнение по метрикам"
   ]
  },
  {
   "cell_type": "code",
   "execution_count": null,
   "id": "7f0c92e2-53c7-4c32-8cf2-a67d70cbe756",
   "metadata": {},
   "outputs": [],
   "source": []
  }
 ],
 "metadata": {
  "kernelspec": {
   "display_name": "Python [conda env:base] *",
   "language": "python",
   "name": "conda-base-py"
  },
  "language_info": {
   "codemirror_mode": {
    "name": "ipython",
    "version": 3
   },
   "file_extension": ".py",
   "mimetype": "text/x-python",
   "name": "python",
   "nbconvert_exporter": "python",
   "pygments_lexer": "ipython3",
   "version": "3.12.7"
  }
 },
 "nbformat": 4,
 "nbformat_minor": 5
}
