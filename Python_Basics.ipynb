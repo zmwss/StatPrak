{
 "cells": [
  {
   "cell_type": "markdown",
   "metadata": {
    "id": "BPnoMGlR4rUB"
   },
   "source": [
    "<a href=\"https://colab.research.google.com/drive/1Nx_klyuwQfMlq_v3woczmeeI3ZKiSdvY?usp=sharing\" target=\"_parent\"><img src=\"https://colab.research.google.com/assets/colab-badge.svg\" alt=\"Open In Colab\"/></a>"
   ]
  },
  {
   "cell_type": "markdown",
   "metadata": {
    "id": "xw8BD8v2oBGj"
   },
   "source": [
    "# Homework"
   ]
  },
  {
   "cell_type": "markdown",
   "metadata": {
    "id": "sSos7q2_oBGj"
   },
   "source": [
    "## Problem 1"
   ]
  },
  {
   "cell_type": "markdown",
   "metadata": {
    "id": "NiX8ePp0oBGk"
   },
   "source": [
    "Make a tuple containing natural numbers, the square of which is a multiple of 3, 4, but not a multiple of 8 and not exceeding 12345."
   ]
  },
  {
   "cell_type": "code",
   "execution_count": 7,
   "metadata": {
    "id": "XmPHEnS9oBGk",
    "scrolled": true
   },
   "outputs": [
    {
     "data": {
      "text/plain": [
       "(6, 18, 30, 42, 54, 66, 78, 90, 102)"
      ]
     },
     "execution_count": 7,
     "metadata": {},
     "output_type": "execute_result"
    }
   ],
   "source": [
    "import math\n",
    "tuple(n for n in range(1, math.ceil(math.sqrt(12345))+1) if n**2 % 3 == 0 and n**2 % 4 == 0 and n**2 % 8 != 0)"
   ]
  },
  {
   "cell_type": "markdown",
   "metadata": {
    "id": "OZBeUyxcoBGk"
   },
   "source": [
    "## Problem 2"
   ]
  },
  {
   "cell_type": "markdown",
   "metadata": {
    "id": "zIfvg22noBGk"
   },
   "source": [
    "\n",
    "Write a function that takes a two-dimensional array and a string as input and returns an array rotated 90 degrees counterclockwise if the string 'left' was passed, and clockwise if the string 'right' was passed.\n",
    "\n",
    "Example for input: $\\begin{bmatrix} 1 & 2 & 3 \\\\ 4 & 5 & 6 \\\\ 7 & 8 & 9 \\end{bmatrix}$.\\\n",
    "If the string 'left' is passed, the function should return $\\begin{bmatrix} 3 & 6 & 9 \\\\ 2 & 5 & 8 \\\\ 1 & 4 & 7 \\end{bmatrix}$, and if the string 'right' is passed, the function should return $\\begin{bmatrix} 7 & 4 & 1 \\\\ 8 & 5 & 2 \\\\ 9 & 6 & 3 \\end{bmatrix}$."
   ]
  },
  {
   "cell_type": "code",
   "execution_count": 43,
   "metadata": {
    "id": "HNvy_cRjoBGk"
   },
   "outputs": [],
   "source": [
    "def rotate(matrix, string):\n",
    "    return list(map(list, zip(*matrix[::-1]))) if string == \"left\" else list(map(list, zip(*matrix)[::-1]))"
   ]
  },
  {
   "cell_type": "markdown",
   "metadata": {
    "id": "_dY-PFlCoBGk"
   },
   "source": [
    "## Problem 3"
   ]
  },
  {
   "cell_type": "markdown",
   "metadata": {
    "id": "3CaIwcm0oBGk"
   },
   "source": [
    "Write a function that takes a string as input and returns a dictionary containing the number of occurrences of each character in the string.\n",
    "\n",
    "Example for the string 'hello, world!': {'h': 1, 'e': 1, 'l': 3, 'o': 2, ',': 1, ' ': 1, 'w': 1, 'r': 1, 'd': 1, '!': 1}."
   ]
  },
  {
   "cell_type": "code",
   "execution_count": 58,
   "metadata": {
    "id": "rlSbHusZoBGk"
   },
   "outputs": [
    {
     "data": {
      "text/plain": [
       "{'h': 1, 'e': 1, 'l': 3, 'o': 2, ' ': 1, 'w': 1, 'r': 1, 'd': 1, '!': 1}"
      ]
     },
     "execution_count": 58,
     "metadata": {},
     "output_type": "execute_result"
    }
   ],
   "source": [
    "def count_symbols(string):\n",
    "    return {v: string.count(v) for v in sorted(set(list(string)), key=string.index)}\n",
    "count_symbols('hello world!')"
   ]
  },
  {
   "cell_type": "markdown",
   "metadata": {
    "id": "KBGJ7PeboBGk"
   },
   "source": [
    "## Problem 4"
   ]
  },
  {
   "cell_type": "markdown",
   "metadata": {
    "id": "XS4Seqa9oBGk"
   },
   "source": [
    "### Implementing a Library Management System\n",
    "\n",
    "#### Description\n",
    "\n",
    "You are required to design and implement a system for managing books and users in a library. The system should allow for the management of books (adding, deleting, searching by various criteria) and users (registration, deletion, searching), as well as tracking the history of interactions between them (issuing and returning books).\n",
    "\n",
    "#### Tasks\n",
    "\n",
    "1. **`Book` Class**:\n",
    "   - Attributes: title, author, year of publication, ISBN, number of copies.\n",
    "   - Methods: constructor, methods to get information about the book, method to change the number of copies (when issuing and returning books).\n",
    "\n",
    "2. **`User` Class**:\n",
    "   - Attributes: user name, library card number, list of borrowed books.\n",
    "   - Methods: constructor, methods for user registration, methods for adding and removing books from the borrowed list.\n",
    "\n",
    "3. **`Library` Class**:\n",
    "   - Attributes: list of books, list of users, transaction history (who, when, which book was borrowed and returned).\n",
    "   - Methods: constructor, methods for adding and deleting books and users, methods for issuing and returning books, searching for books and users by various criteria, method to display the transaction history.\n",
    "\n",
    "#### Assignment\n",
    "\n",
    "1. Implement the `Book`, `User`, and `Library` classes with the specified attributes and methods.\n",
    "2. Create several books and users, and add them to the library system.\n",
    "3. Implement scenarios for issuing books to users and their return.\n",
    "4. Display the transaction history to show how books were issued and returned.\n"
   ]
  },
  {
   "cell_type": "code",
   "execution_count": 43,
   "metadata": {
    "id": "IbqwtWWsoBGl"
   },
   "outputs": [
    {
     "name": "stdout",
     "output_type": "stream",
     "text": [
      "Library created\n",
      "Book War and Peace created\n",
      "Book Fathers and childrens created\n",
      "User Aleksandr created\n",
      "User Oleg created\n",
      "Book War and Peace has been added to the library\n",
      "Book Fathers and childrens has been added to the library\n",
      "User Aleksandr has been added to the library\n",
      "User Oleg has been added to the library\n"
     ]
    }
   ],
   "source": [
    "class Book:\n",
    "    def __init__(self, title, author, year, ISBN, number_of_copies):\n",
    "        self.title = title\n",
    "        self.author = author\n",
    "        self.year = year\n",
    "        self.ISBN = ISBN\n",
    "        self.number_of_copies = number_of_copies\n",
    "        print(f\"Book {title} created\")\n",
    "    def return_book(self):\n",
    "        self.number_of_copies += 1\n",
    "    def issue_book(self):\n",
    "        self.number_of_copies -= 1\n",
    "    def display_info(self):\n",
    "        return f\"{self.title} {self.author} {self.year}, number of copies {self.number_of_copies}, ISBN {self.ISBN}\"\n",
    "class User:\n",
    "    def __init__(self, name, card, books):\n",
    "        self.name = name\n",
    "        self.card = card\n",
    "        self.books = books\n",
    "        print(f\"User {self.name} created\")\n",
    "    def add_book(self, book):\n",
    "        if book not in self.books:\n",
    "            self.books.append(book)\n",
    "            print(f\"User {self.name} picked up the book {book.title}\")\n",
    "            return\n",
    "        print(f\"User {self.name} has the book {book.title}\")\n",
    "        return\n",
    "    def return_book(self, book):\n",
    "        if book in self.books:\n",
    "            self.books.remove(book)\n",
    "            print(f\"User {self.name} returned the book {book.title}\")\n",
    "            return\n",
    "        print(f\"User {self.name} does not have the book {book.title}\")\n",
    "        return\n",
    "class Library:\n",
    "    def __init__(self, books, users, history):\n",
    "        self.books = books\n",
    "        self.users = users\n",
    "        self.history = history\n",
    "        print(\"Library created\")\n",
    "    def add_user(self, user):\n",
    "        if user not in self.users:\n",
    "            self.users.append(user)\n",
    "            print(f\"User {user.name} has been added to the library\")\n",
    "            return\n",
    "        print(f\"User {user.name} is already in the library\")\n",
    "        return\n",
    "    def remove_user(self, user):\n",
    "        if user in self.users:\n",
    "            self.users.remove(user)\n",
    "            print(f\"User {user.name} was removed from the library\")\n",
    "            return\n",
    "        print(f\"User {user.name} is already not in the library\")\n",
    "        return\n",
    "    def add_book(self, book):\n",
    "        if book not in self.books:\n",
    "            self.books.append(book)\n",
    "            print(f\"Book {book.title} has been added to the library\")\n",
    "            return\n",
    "        print(f\"Book {book.title} is already in the library\")\n",
    "        return\n",
    "    def remove_book(self, book):\n",
    "        if book in self.books:\n",
    "            self.books.remove(book)\n",
    "            print(f\"Book {book.title} was removed from the library\")\n",
    "            return\n",
    "        print(f\"Book {book.title} is already not in the library\")\n",
    "        return\n",
    "    def issue_book(self, book, user):\n",
    "        if book not in self.books:\n",
    "            print(f\"Book {book.title} is not in the library\")\n",
    "            return\n",
    "        if book in user.books:\n",
    "            print(f\"User {user.name} already has the book {book.title}\")\n",
    "            return\n",
    "        if book.number_of_copies == 0:\n",
    "            print(f\"There are no copies of the book {book.name}\")\n",
    "            return\n",
    "        user.add_book(book)\n",
    "        book.issue_book()\n",
    "        self.history.append(f\"User {user.name} took the book {book.title}\")\n",
    "    def return_book(self, book, user):\n",
    "        if book not in self.books:\n",
    "            print(f\"Book {book.title} can't be in the library\")\n",
    "            return\n",
    "        if book not in user.books:\n",
    "            print(f\"User {user.name} can't return a book {book.title} he doesn't have\")\n",
    "            return\n",
    "        user.return_book(book)\n",
    "        book.return_book()\n",
    "        self.history.append(f\"User {user.name} returned the book {book.title}\")\n",
    "    def search_book(self, title):\n",
    "        for book in self.books:\n",
    "            if book.title == title:\n",
    "                print(f\"The book {book.title} was found\")\n",
    "                return\n",
    "        print(f\"The book {book.title} was not found\")\n",
    "        return\n",
    "    def search_user(self, card):\n",
    "        for user in self.users:\n",
    "            if card == user.card:\n",
    "                print(f\"The user with the reader's ticket number {card} has been found. His name is {user.name}\")\n",
    "                return\n",
    "        print(f\"The user with the reader's ticket number {card} was not found\")\n",
    "        return\n",
    "    def display_history(self):\n",
    "        print(\"History:\")\n",
    "        for i in self.history:\n",
    "            print(i)\n",
    "#Example usage\n",
    "libr = Library([], [], [])\n",
    "    \n",
    "#Creating books\n",
    "book1 = Book(\"War and Peace\", \"Lev Tolstoy\", 2022, \"978-5-17-118103-1\", 5)\n",
    "book2 = Book(\"Fathers and childrens\", \"Ivan Turgenev\", 2025, \"978-5-17-089255-6\", 3)\n",
    "\n",
    "#Creating users\n",
    "user1 = User(\"Aleksandr\", 1234567, [])\n",
    "user2 = User(\"Oleg\", 7654321, [])\n",
    "\n",
    "#Addind books to a library\n",
    "libr.add_book(book1)\n",
    "libr.add_book(book2)\n",
    "\n",
    "#Adding users to a library\n",
    "libr.add_user(user1)\n",
    "libr.add_user(user2)"
   ]
  },
  {
   "cell_type": "code",
   "execution_count": 45,
   "metadata": {},
   "outputs": [
    {
     "name": "stdout",
     "output_type": "stream",
     "text": [
      "User Aleksandr picked up the book War and Peace\n",
      "User Aleksandr picked up the book Fathers and childrens\n",
      "User Oleg picked up the book War and Peace\n",
      "User Oleg already has the book War and Peace\n",
      "User Aleksandr returned the book War and Peace\n",
      "User Aleksandr can't return a book War and Peace he doesn't have\n",
      "The book War and Peace was found\n",
      "The user with the reader's ticket number 1234567 has been found. His name is Aleksandr\n",
      "\n",
      "History:\n",
      "User Aleksandr took the book War and Peace\n",
      "User Aleksandr took the book Fathers and childrens\n",
      "User Oleg took the book War and Peace\n",
      "User Aleksandr returned the book War and Peace\n"
     ]
    }
   ],
   "source": [
    "#Test system\n",
    "libr.issue_book(book1, user1)\n",
    "libr.issue_book(book2, user1)\n",
    "libr.issue_book(book1, user2)\n",
    "libr.issue_book(book1, user2)\n",
    "libr.return_book(book1, user1)\n",
    "libr.return_book(book1, user1)\n",
    "libr.search_book(\"War and Peace\")\n",
    "libr.search_user(1234567)\n",
    "print()\n",
    "libr.display_history()"
   ]
  },
  {
   "cell_type": "markdown",
   "metadata": {
    "id": "0c8zRbSIoBGl"
   },
   "source": [
    "## Problem 5*"
   ]
  },
  {
   "cell_type": "markdown",
   "metadata": {
    "id": "8ltdzRmOoBGl"
   },
   "source": [
    "Explain why list `b` changes after the execution of the following code:\n",
    "\n",
    "```python\n",
    "a = [1, 2, 3]\n",
    "b = a\n",
    "a[0] = 4\n",
    "print(b)\n",
    "```"
   ]
  },
  {
   "cell_type": "markdown",
   "metadata": {
    "id": "RxgnUfFPoBGl"
   },
   "source": [
    "> Write your answer in markdown cell after:"
   ]
  },
  {
   "cell_type": "markdown",
   "metadata": {
    "id": "Mb-amOX5oBGl"
   },
   "source": [
    "a - ссылка на область в памяти компьютера, где хранятся первый и последующие элементы списка.\n",
    "Таким образом b - это тоже ссылка на ту же область в памяти. Значит, при изменении а будет меняться и b"
   ]
  },
  {
   "cell_type": "markdown",
   "metadata": {
    "id": "TmXLkc_foBGl"
   },
   "source": [
    "## Problem 6*"
   ]
  },
  {
   "cell_type": "markdown",
   "metadata": {
    "id": "Gn0ibiVCoBGl"
   },
   "source": [
    "Let\n",
    "$$A = \\sum_{i=1}^{10000} \\frac{1}{i^2},\\quad B=\\sum_{i=10000}^{1} \\frac{1}{i^2}.$$\n",
    "Calculate the values of $A$ and $B$ and compare them. What do you observe? Explain why this happens. What is the best way to calculate the value of $\\sum\\limits_{i=1}^{10000} \\dfrac{1}{i^2}$?"
   ]
  },
  {
   "cell_type": "code",
   "execution_count": 95,
   "metadata": {
    "id": "3q93uGqFoBGl"
   },
   "outputs": [
    {
     "name": "stdout",
     "output_type": "stream",
     "text": [
      "1.6448340718480652 1.6448340718480596\n"
     ]
    }
   ],
   "source": [
    "sum1=0\n",
    "sum2=0\n",
    "for i in range(1,10001): sum1 = sum1 + 1/i**2\n",
    "for i in range(10000,0,-1): sum2 = sum2 + 1/i**2\n",
    "print(sum1, sum2)"
   ]
  },
  {
   "cell_type": "markdown",
   "metadata": {},
   "source": [
    "Это связано с более густым расположением маленьких чисел, нежели больших. Точнее, шаг сетки(разница между соседними машинно-представимыми числами)\n",
    "с ростом числа увеличивается. То есть при сложении в прямом порядке происходят более значительные округления, чем в обратном порядке. Вычислять лучше вторым способом"
   ]
  }
 ],
 "metadata": {
  "colab": {
   "provenance": []
  },
  "kernelspec": {
   "display_name": "Python [conda env:base] *",
   "language": "python",
   "name": "conda-base-py"
  },
  "language_info": {
   "codemirror_mode": {
    "name": "ipython",
    "version": 3
   },
   "file_extension": ".py",
   "mimetype": "text/x-python",
   "name": "python",
   "nbconvert_exporter": "python",
   "pygments_lexer": "ipython3",
   "version": "3.12.7"
  }
 },
 "nbformat": 4,
 "nbformat_minor": 4
}
